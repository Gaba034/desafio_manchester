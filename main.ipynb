{
 "cells": [
  {
   "attachments": {},
   "cell_type": "markdown",
   "metadata": {},
   "source": [
    "# Instalação de pacotes e configurações"
   ]
  },
  {
   "cell_type": "code",
   "execution_count": 7,
   "metadata": {},
   "outputs": [
    {
     "name": "stdout",
     "output_type": "stream",
     "text": [
      "Collecting openpyxl\n",
      "  Downloading openpyxl-3.1.2-py2.py3-none-any.whl (249 kB)\n",
      "     -------------------------------------- 250.0/250.0 kB 2.6 MB/s eta 0:00:00\n",
      "Collecting et-xmlfile\n",
      "  Downloading et_xmlfile-1.1.0-py3-none-any.whl (4.7 kB)\n",
      "Installing collected packages: et-xmlfile, openpyxl\n",
      "Successfully installed et-xmlfile-1.1.0 openpyxl-3.1.2\n",
      "Note: you may need to restart the kernel to use updated packages.\n"
     ]
    },
    {
     "name": "stderr",
     "output_type": "stream",
     "text": [
      "\n",
      "[notice] A new release of pip available: 22.2.1 -> 23.1.2\n",
      "[notice] To update, run: python.exe -m pip install --upgrade pip\n"
     ]
    }
   ],
   "source": [
    "%pip install geopandas\n",
    "%pip install numpy\n",
    "%pip install pandas\n",
    "%pip install matplotlib\n",
    "%pip install descartes \n",
    "%pip install openpyxl"
   ]
  },
  {
   "cell_type": "code",
   "execution_count": 5,
   "metadata": {},
   "outputs": [],
   "source": [
    "import geopandas as gpd\n",
    "import numpy as np\n",
    "import pandas as pd\n",
    "import matplotlib.pyplot as plt"
   ]
  },
  {
   "attachments": {},
   "cell_type": "markdown",
   "metadata": {},
   "source": [
    "# Importando o arquivo e suas páginas.\n"
   ]
  },
  {
   "cell_type": "code",
   "execution_count": 8,
   "metadata": {},
   "outputs": [
    {
     "data": {
      "text/plain": [
       "{'VENDAS':     CLIENTE  IDADE             ESTADO PRODUTO  QUANTIDADE_VENDIDA       DATA\n",
       " 0         1     47     SANTA CATARINA       A                  64 2021-01-05\n",
       " 1         1     47     SANTA CATARINA       B                 488 2021-01-15\n",
       " 2         1     47     SANTA CATARINA       C                 420 2021-01-25\n",
       " 3         1     47     SANTA CATARINA       D                 259 2021-02-04\n",
       " 4         1     47     SANTA CATARINA       E                 387 2021-02-14\n",
       " 5         2     61          SÃO PAULO       A                 302 2021-02-24\n",
       " 6         2     61          SÃO PAULO       B                 117 2021-03-06\n",
       " 7         2     61          SÃO PAULO       C                 344 2021-03-16\n",
       " 8         2     61          SÃO PAULO       D                 292 2021-04-15\n",
       " 9         2     61          SÃO PAULO       E                 447 2021-04-25\n",
       " 10        3     26              BAHIA       A                  42 2021-05-05\n",
       " 11        3     26              BAHIA       B                 403 2021-05-15\n",
       " 12        3     26              BAHIA       C                 108 2021-05-25\n",
       " 13        3     26              BAHIA       D                  26 2021-06-14\n",
       " 14        3     26              BAHIA       E                  25 2021-06-24\n",
       " 15        4     43     SANTA CATARINA       D                 396 2021-07-04\n",
       " 16        4     43     SANTA CATARINA       C                 227 2021-08-03\n",
       " 17        4     43             PARANÁ       A                 446 2021-08-13\n",
       " 18        4     43             PARANÁ       B                 409 2021-08-23\n",
       " 19        5     20  RIO GRANDE DO SUL       A                 482 2021-09-02\n",
       " 20        5     20  RIO GRANDE DO SUL       B                 325 2021-09-12\n",
       " 21        5     20  RIO GRANDE DO SUL       C                  69 2021-03-06\n",
       " 22        5     20  RIO GRANDE DO SUL       D                 293 2021-03-16\n",
       " 23        5     20  RIO GRANDE DO SUL       E                  89 2021-03-26\n",
       " 24        6     58     RIO DE JANEIRO       C                 280 2021-08-23\n",
       " 25        6     58     RIO DE JANEIRO       D                 347 2021-08-23\n",
       " 26        6     58     RIO DE JANEIRO       E                 294 2021-05-15\n",
       " 27        6     58     RIO DE JANEIRO       E                 291 2021-08-23\n",
       " 28        7     43            PARAÍBA       A                 257 2021-01-05\n",
       " 29        7     43            PARAÍBA       B                  51 2021-01-15\n",
       " 30        7     43            PARAÍBA       C                 462 2021-01-25\n",
       " 31        7     43            PARAÍBA       D                 253 2021-02-04\n",
       " 32        8     47            PARAÍBA       A                 257 2021-03-16\n",
       " 33        8     47            PARAÍBA       B                  51 2021-04-15\n",
       " 34        8     47            PARAÍBA       C                 462 2021-04-25\n",
       " 35        8     47            PARAÍBA       D                 253 2021-05-05,\n",
       " 'PRODUTOS':   PRODUTO                CATEGORIA\n",
       " 0       A  MAQUINA DE CORTAR GRAMA\n",
       " 1       B               MANGUEIRAS\n",
       " 2       C    UTILIDADES DOMÉSTICAS\n",
       " 3       D                  LIMPEZA\n",
       " 4       E               JARDINAGEM}"
      ]
     },
     "execution_count": 8,
     "metadata": {},
     "output_type": "execute_result"
    }
   ],
   "source": [
    "# Importa o arquivo Excel com suas páginas VENDAS e PRODUTOS\n",
    "frame_df = pd.read_excel('Base-Dados-Desafio-D&A-01.xlsx',sheet_name=['VENDAS','PRODUTOS'])\n",
    "sales_df = frame_df.get('VENDAS')\n",
    "products_df = frame_df.get('PRODUTOS')\n",
    "\n",
    "# Mostra a tabela principal com suas páginas \n",
    "frame_df"
   ]
  }
 ],
 "metadata": {
  "kernelspec": {
   "display_name": "Python 3",
   "language": "python",
   "name": "python3"
  },
  "language_info": {
   "codemirror_mode": {
    "name": "ipython",
    "version": 3
   },
   "file_extension": ".py",
   "mimetype": "text/x-python",
   "name": "python",
   "nbconvert_exporter": "python",
   "pygments_lexer": "ipython3",
   "version": "3.10.6"
  },
  "orig_nbformat": 4
 },
 "nbformat": 4,
 "nbformat_minor": 2
}
